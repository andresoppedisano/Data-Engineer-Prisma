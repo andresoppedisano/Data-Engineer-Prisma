{
 "cells": [
  {
   "cell_type": "markdown",
   "id": "f149fa77",
   "metadata": {},
   "source": [
    "# SQLite3 + SQL Alchemy + Pandas"
   ]
  },
  {
   "cell_type": "code",
   "execution_count": 1,
   "id": "1666368d",
   "metadata": {},
   "outputs": [],
   "source": [
    "# Import main libraries\n",
    "import sqlite3\n",
    "import pandas as pd\n",
    "#En caso de no tener instalado sqlalchemy ---> pip install SQLAlchemy\n",
    "import sqlalchemy as db"
   ]
  },
  {
   "cell_type": "markdown",
   "id": "83d62c8e",
   "metadata": {},
   "source": [
    "## Pasos generales para trabajar con SQLite 3\n",
    "\n",
    "**1. Crear una conexión a la base de datos:** utilizando el *método connect ()* generamos un objeto de conexión a base de datos SQLite. Si es la primera vez que nos conectamos, se nos creará la base de datos en el mismo directorio donde se este ejecutando el notebook o archivo .py.\n",
    "\n",
    "\n",
    "**2. Crear un cursor:**  El método *cursor ()* se utiliza para realizar la conexión y ejecutar consultas SQL que nos permiten crear tablas, insertar datos, etc. Para crear un cursor solo necesitamos usar la conexión que ya hemos creado.\n",
    "\n",
    "**3. Ejecutar una sentencia SQL:** Una vez creado el cursor, podremos ejecutar las sentencias SQL utilizando el método *execute()*.\n",
    "\n",
    "**4: Realizar un commit:** El método *commit ()* de SQLite se utiliza para guardar cualquier transacción de forma permanente en el sistema de base de datos. Todas las modificaciones de datos o del sistema realizadas por el comando COMMIT desde el comienzo de las transacciones son de naturaleza permanente y no se pueden deshacer ni revertir, ya que una operación COMMIT exitosa libera todos los recursos de transacción involucrados.\n",
    "\n",
    "**5: Desconectarnos de la base de datos:** El método *close ()* de SQLite cierra la conexión a la base de datos.\n"
   ]
  },
  {
   "cell_type": "markdown",
   "id": "81af9f38",
   "metadata": {},
   "source": [
    "## Configuraciones principales"
   ]
  },
  {
   "cell_type": "code",
   "execution_count": 2,
   "id": "357b6b17",
   "metadata": {},
   "outputs": [],
   "source": [
    "# Crear una conexión a la base de datos\n",
    "conn = sqlite3.connect('commerce.db')\n",
    "\n",
    "# Crear un cursor\n",
    "cursor = conn.cursor()"
   ]
  },
  {
   "cell_type": "markdown",
   "id": "00bc37ae",
   "metadata": {},
   "source": [
    "## Crear una tabla\n",
    "* Tipos de datos en SQLite --> https://www.sqlite.org/datatype3.html"
   ]
  },
  {
   "cell_type": "code",
   "execution_count": 3,
   "id": "94b060e2",
   "metadata": {},
   "outputs": [],
   "source": [
    "# Crear una tabla\n",
    "query = \"\"\"CREATE TABLE IF NOT EXISTS orders (\n",
    "            orderId INTEGER,\n",
    "            totalPrice REAL,\n",
    "            address TEXT\n",
    "            )\"\"\"\n",
    "\n",
    "cursor.execute(query)\n",
    "conn.commit()"
   ]
  },
  {
   "cell_type": "markdown",
   "id": "569adfc3",
   "metadata": {},
   "source": [
    "## Insertar datos"
   ]
  },
  {
   "cell_type": "code",
   "execution_count": 4,
   "id": "9e705ff5",
   "metadata": {},
   "outputs": [],
   "source": [
    "# Insertar datos\n",
    "order_data = [\n",
    "    (546, 3489.98, 'Buenos Aires 989'),\n",
    "    (547, 6897, 'Espronceda 3218'),\n",
    "    (560, 7542.35, 'Pasteur 1788'),\n",
    "    (562, 11432, 'Galicia 1252')\n",
    "]\n",
    "\n",
    "cursor.executemany(\"INSERT INTO orders VALUES (?, ?, ?)\", order_data)\n",
    "conn.commit()"
   ]
  },
  {
   "cell_type": "markdown",
   "id": "f9e52244",
   "metadata": {},
   "source": [
    "## Seleccionar datos"
   ]
  },
  {
   "cell_type": "code",
   "execution_count": 5,
   "id": "47ea123d",
   "metadata": {},
   "outputs": [
    {
     "name": "stdout",
     "output_type": "stream",
     "text": [
      "(546, 3489.98, 'Buenos Aires 989')\n"
     ]
    }
   ],
   "source": [
    "# Seleccionar un dato utilizando fetchone\n",
    "query = \"SELECT * FROM orders\"\n",
    "cursor.execute(query)\n",
    "one_result = cursor.fetchone()\n",
    "print(one_result)"
   ]
  },
  {
   "cell_type": "code",
   "execution_count": 6,
   "id": "d1786d45",
   "metadata": {},
   "outputs": [
    {
     "name": "stdout",
     "output_type": "stream",
     "text": [
      "[(546, 3489.98, 'Buenos Aires 989'), (547, 6897.0, 'Espronceda 3218')]\n"
     ]
    }
   ],
   "source": [
    "# Seleccionar varios datos utilizando fetchmany\n",
    "query = \"SELECT * FROM orders\"\n",
    "cursor.execute(query)\n",
    "many_results = cursor.fetchmany(2)\n",
    "print(many_results)"
   ]
  },
  {
   "cell_type": "code",
   "execution_count": 7,
   "id": "3fe01dc9",
   "metadata": {},
   "outputs": [
    {
     "name": "stdout",
     "output_type": "stream",
     "text": [
      "(546, 3489.98, 'Buenos Aires 989')\n",
      "(547, 6897.0, 'Espronceda 3218')\n",
      "(560, 7542.35, 'Pasteur 1788')\n",
      "(562, 11432.0, 'Galicia 1252')\n"
     ]
    }
   ],
   "source": [
    "# Seleccionar todos los datos utilizando fetchall\n",
    "query = \"SELECT * FROM orders\"\n",
    "cursor.execute(query)\n",
    "results = cursor.fetchall()\n",
    "for r in results:\n",
    "    print(r)"
   ]
  },
  {
   "cell_type": "markdown",
   "id": "6978c599",
   "metadata": {},
   "source": [
    "## Actualizar datos"
   ]
  },
  {
   "cell_type": "code",
   "execution_count": 8,
   "id": "e638e052",
   "metadata": {},
   "outputs": [
    {
     "name": "stdout",
     "output_type": "stream",
     "text": [
      "(546, 6150.8, 'Buenos Aires 989')\n",
      "(547, 6897.0, 'Espronceda 3218')\n",
      "(560, 7542.35, 'Pasteur 1788')\n",
      "(562, 11432.0, 'Galicia 1252')\n"
     ]
    }
   ],
   "source": [
    "# Update data\n",
    "query = \"\"\"UPDATE orders\n",
    "            SET totalPrice = 6150.80\n",
    "            WHERE address = 'Buenos Aires 989'\n",
    "            \n",
    "\"\"\"\n",
    "cursor.execute(query)\n",
    "conn.commit()\n",
    "\n",
    "# Seleccionar todos los datos utilizando fetchall\n",
    "query = \"SELECT * FROM orders\"\n",
    "cursor.execute(query)\n",
    "results = cursor.fetchall()\n",
    "for r in results:\n",
    "    print(r)"
   ]
  },
  {
   "cell_type": "markdown",
   "id": "b0df020f",
   "metadata": {},
   "source": [
    "## Borrar datos"
   ]
  },
  {
   "cell_type": "code",
   "execution_count": 9,
   "id": "a250d780",
   "metadata": {},
   "outputs": [
    {
     "name": "stdout",
     "output_type": "stream",
     "text": [
      "(546, 6150.8, 'Buenos Aires 989')\n",
      "(547, 6897.0, 'Espronceda 3218')\n",
      "(562, 11432.0, 'Galicia 1252')\n"
     ]
    }
   ],
   "source": [
    "# Borrar datos\n",
    "query = \"DELETE FROM orders WHERE address = 'Pasteur 1788'\"\n",
    "cursor.execute(query)\n",
    "\n",
    "# Seleccionar todos los datos utilizando fetchall\n",
    "query = \"SELECT * FROM orders\"\n",
    "cursor.execute(query)\n",
    "results = cursor.fetchall()\n",
    "for r in results:\n",
    "    print(r)"
   ]
  },
  {
   "cell_type": "markdown",
   "id": "0a15597e",
   "metadata": {},
   "source": [
    "## Otros comandos. Descomentar de acuerdo a tu necesidad y ejecutar"
   ]
  },
  {
   "cell_type": "code",
   "execution_count": 10,
   "id": "dcd246df",
   "metadata": {},
   "outputs": [],
   "source": [
    "# Close connection\n",
    "# conn.close()\n",
    "\n",
    "#Drop table\n",
    "# query = \"\"\"DROP TABLE IF EXISTS orders\"\"\"\n",
    "# cursor.execute(query)\n",
    "# conn.commit()"
   ]
  },
  {
   "cell_type": "markdown",
   "id": "e8144c69",
   "metadata": {},
   "source": [
    "# SQL Alchemy + Pandas"
   ]
  },
  {
   "cell_type": "code",
   "execution_count": 11,
   "id": "e5f40c3a",
   "metadata": {},
   "outputs": [],
   "source": [
    "# Si es la primera vez que utilizas SQLAlchemy y no se encuentra instalado, descomentar e instalar.\n",
    "# pip install sqlalchemy"
   ]
  },
  {
   "cell_type": "markdown",
   "id": "5210149f",
   "metadata": {},
   "source": [
    "### Opción 1:Conectarse utilizando un objeto de conexión de SQLite3\n",
    "Utilizamos el objeto de conexión **conn** definido previamente y luego utilizamos el método read_sql de la librería Pandas para consultar la base de datos y obtener un dataframe."
   ]
  },
  {
   "cell_type": "code",
   "execution_count": 12,
   "id": "08687a91",
   "metadata": {},
   "outputs": [
    {
     "data": {
      "text/html": [
       "<div>\n",
       "<style scoped>\n",
       "    .dataframe tbody tr th:only-of-type {\n",
       "        vertical-align: middle;\n",
       "    }\n",
       "\n",
       "    .dataframe tbody tr th {\n",
       "        vertical-align: top;\n",
       "    }\n",
       "\n",
       "    .dataframe thead th {\n",
       "        text-align: right;\n",
       "    }\n",
       "</style>\n",
       "<table border=\"1\" class=\"dataframe\">\n",
       "  <thead>\n",
       "    <tr style=\"text-align: right;\">\n",
       "      <th></th>\n",
       "      <th>orderId</th>\n",
       "      <th>totalPrice</th>\n",
       "      <th>address</th>\n",
       "    </tr>\n",
       "  </thead>\n",
       "  <tbody>\n",
       "    <tr>\n",
       "      <th>0</th>\n",
       "      <td>546</td>\n",
       "      <td>6150.8</td>\n",
       "      <td>Buenos Aires 989</td>\n",
       "    </tr>\n",
       "    <tr>\n",
       "      <th>1</th>\n",
       "      <td>547</td>\n",
       "      <td>6897.0</td>\n",
       "      <td>Espronceda 3218</td>\n",
       "    </tr>\n",
       "    <tr>\n",
       "      <th>2</th>\n",
       "      <td>562</td>\n",
       "      <td>11432.0</td>\n",
       "      <td>Galicia 1252</td>\n",
       "    </tr>\n",
       "  </tbody>\n",
       "</table>\n",
       "</div>"
      ],
      "text/plain": [
       "   orderId  totalPrice           address\n",
       "0      546      6150.8  Buenos Aires 989\n",
       "1      547      6897.0   Espronceda 3218\n",
       "2      562     11432.0      Galicia 1252"
      ]
     },
     "execution_count": 12,
     "metadata": {},
     "output_type": "execute_result"
    }
   ],
   "source": [
    "# Obtener un dataframe a partir de una consulta SQL\n",
    "query = \"SELECT * FROM orders\"\n",
    "data = pd.read_sql(query, con=conn)\n",
    "data.head()"
   ]
  },
  {
   "cell_type": "markdown",
   "id": "0d5ac030",
   "metadata": {},
   "source": [
    "### Opción 2: Conectarse utilzando un engine de SQLAlchemy\n",
    "En este caso vamos a crear un **engine** de SQLAlchemy referenciando la base de datos previamente creada, para luego conectarnos a el.\n",
    "Luego volvemos a utilizar el método read_sql de la librería Pandas para consultar la base de datos y obtener un dataframe."
   ]
  },
  {
   "cell_type": "code",
   "execution_count": 13,
   "id": "fe05aa9f",
   "metadata": {},
   "outputs": [
    {
     "data": {
      "text/html": [
       "<div>\n",
       "<style scoped>\n",
       "    .dataframe tbody tr th:only-of-type {\n",
       "        vertical-align: middle;\n",
       "    }\n",
       "\n",
       "    .dataframe tbody tr th {\n",
       "        vertical-align: top;\n",
       "    }\n",
       "\n",
       "    .dataframe thead th {\n",
       "        text-align: right;\n",
       "    }\n",
       "</style>\n",
       "<table border=\"1\" class=\"dataframe\">\n",
       "  <thead>\n",
       "    <tr style=\"text-align: right;\">\n",
       "      <th></th>\n",
       "      <th>orderId</th>\n",
       "      <th>totalPrice</th>\n",
       "      <th>address</th>\n",
       "    </tr>\n",
       "  </thead>\n",
       "  <tbody>\n",
       "    <tr>\n",
       "      <th>0</th>\n",
       "      <td>546</td>\n",
       "      <td>6150.80</td>\n",
       "      <td>Buenos Aires 989</td>\n",
       "    </tr>\n",
       "    <tr>\n",
       "      <th>1</th>\n",
       "      <td>547</td>\n",
       "      <td>6897.00</td>\n",
       "      <td>Espronceda 3218</td>\n",
       "    </tr>\n",
       "    <tr>\n",
       "      <th>2</th>\n",
       "      <td>560</td>\n",
       "      <td>7542.35</td>\n",
       "      <td>Pasteur 1788</td>\n",
       "    </tr>\n",
       "    <tr>\n",
       "      <th>3</th>\n",
       "      <td>562</td>\n",
       "      <td>11432.00</td>\n",
       "      <td>Galicia 1252</td>\n",
       "    </tr>\n",
       "  </tbody>\n",
       "</table>\n",
       "</div>"
      ],
      "text/plain": [
       "   orderId  totalPrice           address\n",
       "0      546     6150.80  Buenos Aires 989\n",
       "1      547     6897.00   Espronceda 3218\n",
       "2      560     7542.35      Pasteur 1788\n",
       "3      562    11432.00      Galicia 1252"
      ]
     },
     "execution_count": 13,
     "metadata": {},
     "output_type": "execute_result"
    }
   ],
   "source": [
    "# Creación del engine\n",
    "engine = db.create_engine('sqlite:///commerce.db')\n",
    "sqla_connection = engine.connect()\n",
    "\n",
    "# Obtener un dataframe a partir de una consulta SQL\n",
    "query = \"SELECT * FROM orders\"\n",
    "data = pd.read_sql(query, con=sqla_connection)\n",
    "data.head()"
   ]
  },
  {
   "cell_type": "markdown",
   "id": "4719c778",
   "metadata": {},
   "source": [
    "## Seleccionar datos"
   ]
  },
  {
   "cell_type": "code",
   "execution_count": 14,
   "id": "0682aee9",
   "metadata": {},
   "outputs": [
    {
     "data": {
      "text/html": [
       "<div>\n",
       "<style scoped>\n",
       "    .dataframe tbody tr th:only-of-type {\n",
       "        vertical-align: middle;\n",
       "    }\n",
       "\n",
       "    .dataframe tbody tr th {\n",
       "        vertical-align: top;\n",
       "    }\n",
       "\n",
       "    .dataframe thead th {\n",
       "        text-align: right;\n",
       "    }\n",
       "</style>\n",
       "<table border=\"1\" class=\"dataframe\">\n",
       "  <thead>\n",
       "    <tr style=\"text-align: right;\">\n",
       "      <th></th>\n",
       "      <th>orderId</th>\n",
       "      <th>totalPrice</th>\n",
       "      <th>address</th>\n",
       "    </tr>\n",
       "  </thead>\n",
       "  <tbody>\n",
       "    <tr>\n",
       "      <th>0</th>\n",
       "      <td>546</td>\n",
       "      <td>6150.80</td>\n",
       "      <td>Buenos Aires 989</td>\n",
       "    </tr>\n",
       "    <tr>\n",
       "      <th>1</th>\n",
       "      <td>547</td>\n",
       "      <td>6897.00</td>\n",
       "      <td>Espronceda 3218</td>\n",
       "    </tr>\n",
       "    <tr>\n",
       "      <th>2</th>\n",
       "      <td>560</td>\n",
       "      <td>7542.35</td>\n",
       "      <td>Pasteur 1788</td>\n",
       "    </tr>\n",
       "    <tr>\n",
       "      <th>3</th>\n",
       "      <td>562</td>\n",
       "      <td>11432.00</td>\n",
       "      <td>Galicia 1252</td>\n",
       "    </tr>\n",
       "  </tbody>\n",
       "</table>\n",
       "</div>"
      ],
      "text/plain": [
       "   orderId  totalPrice           address\n",
       "0      546     6150.80  Buenos Aires 989\n",
       "1      547     6897.00   Espronceda 3218\n",
       "2      560     7542.35      Pasteur 1788\n",
       "3      562    11432.00      Galicia 1252"
      ]
     },
     "execution_count": 14,
     "metadata": {},
     "output_type": "execute_result"
    }
   ],
   "source": [
    "# Método: read_sql_table\n",
    "pd.read_sql_table('orders',con=sqla_connection)"
   ]
  },
  {
   "cell_type": "code",
   "execution_count": 15,
   "id": "63972694",
   "metadata": {},
   "outputs": [
    {
     "data": {
      "text/html": [
       "<div>\n",
       "<style scoped>\n",
       "    .dataframe tbody tr th:only-of-type {\n",
       "        vertical-align: middle;\n",
       "    }\n",
       "\n",
       "    .dataframe tbody tr th {\n",
       "        vertical-align: top;\n",
       "    }\n",
       "\n",
       "    .dataframe thead th {\n",
       "        text-align: right;\n",
       "    }\n",
       "</style>\n",
       "<table border=\"1\" class=\"dataframe\">\n",
       "  <thead>\n",
       "    <tr style=\"text-align: right;\">\n",
       "      <th></th>\n",
       "      <th>orderId</th>\n",
       "      <th>totalPrice</th>\n",
       "      <th>address</th>\n",
       "    </tr>\n",
       "  </thead>\n",
       "  <tbody>\n",
       "    <tr>\n",
       "      <th>0</th>\n",
       "      <td>546</td>\n",
       "      <td>6150.80</td>\n",
       "      <td>Buenos Aires 989</td>\n",
       "    </tr>\n",
       "    <tr>\n",
       "      <th>1</th>\n",
       "      <td>547</td>\n",
       "      <td>6897.00</td>\n",
       "      <td>Espronceda 3218</td>\n",
       "    </tr>\n",
       "    <tr>\n",
       "      <th>2</th>\n",
       "      <td>560</td>\n",
       "      <td>7542.35</td>\n",
       "      <td>Pasteur 1788</td>\n",
       "    </tr>\n",
       "    <tr>\n",
       "      <th>3</th>\n",
       "      <td>562</td>\n",
       "      <td>11432.00</td>\n",
       "      <td>Galicia 1252</td>\n",
       "    </tr>\n",
       "  </tbody>\n",
       "</table>\n",
       "</div>"
      ],
      "text/plain": [
       "   orderId  totalPrice           address\n",
       "0      546     6150.80  Buenos Aires 989\n",
       "1      547     6897.00   Espronceda 3218\n",
       "2      560     7542.35      Pasteur 1788\n",
       "3      562    11432.00      Galicia 1252"
      ]
     },
     "execution_count": 15,
     "metadata": {},
     "output_type": "execute_result"
    }
   ],
   "source": [
    "# Método: read_sql\n",
    "pd.read_sql_table('orders',con=sqla_connection)\n",
    "\n",
    "query = \"SELECT * FROM orders\"\n",
    "data = pd.read_sql(query, con=sqla_connection)\n",
    "data"
   ]
  },
  {
   "cell_type": "markdown",
   "id": "70b521d9",
   "metadata": {},
   "source": [
    "## Insertar datos"
   ]
  },
  {
   "cell_type": "code",
   "execution_count": 16,
   "id": "11c97cbe",
   "metadata": {},
   "outputs": [
    {
     "data": {
      "text/html": [
       "<div>\n",
       "<style scoped>\n",
       "    .dataframe tbody tr th:only-of-type {\n",
       "        vertical-align: middle;\n",
       "    }\n",
       "\n",
       "    .dataframe tbody tr th {\n",
       "        vertical-align: top;\n",
       "    }\n",
       "\n",
       "    .dataframe thead th {\n",
       "        text-align: right;\n",
       "    }\n",
       "</style>\n",
       "<table border=\"1\" class=\"dataframe\">\n",
       "  <thead>\n",
       "    <tr style=\"text-align: right;\">\n",
       "      <th></th>\n",
       "      <th>orderId</th>\n",
       "      <th>totalPrice</th>\n",
       "      <th>address</th>\n",
       "    </tr>\n",
       "  </thead>\n",
       "  <tbody>\n",
       "    <tr>\n",
       "      <th>0</th>\n",
       "      <td>1083</td>\n",
       "      <td>6267</td>\n",
       "      <td>Gelpi 3162</td>\n",
       "    </tr>\n",
       "    <tr>\n",
       "      <th>1</th>\n",
       "      <td>1249</td>\n",
       "      <td>2467</td>\n",
       "      <td>Rivadavia 4190</td>\n",
       "    </tr>\n",
       "    <tr>\n",
       "      <th>2</th>\n",
       "      <td>1341</td>\n",
       "      <td>6747</td>\n",
       "      <td>Medrano 3843</td>\n",
       "    </tr>\n",
       "    <tr>\n",
       "      <th>3</th>\n",
       "      <td>191</td>\n",
       "      <td>12051</td>\n",
       "      <td>Montevideo 4348</td>\n",
       "    </tr>\n",
       "    <tr>\n",
       "      <th>4</th>\n",
       "      <td>944</td>\n",
       "      <td>11351</td>\n",
       "      <td>Payro 3518</td>\n",
       "    </tr>\n",
       "    <tr>\n",
       "      <th>...</th>\n",
       "      <td>...</td>\n",
       "      <td>...</td>\n",
       "      <td>...</td>\n",
       "    </tr>\n",
       "    <tr>\n",
       "      <th>95</th>\n",
       "      <td>272</td>\n",
       "      <td>532</td>\n",
       "      <td>Rivadavia 4781</td>\n",
       "    </tr>\n",
       "    <tr>\n",
       "      <th>96</th>\n",
       "      <td>789</td>\n",
       "      <td>13636</td>\n",
       "      <td>24 de Octubre 3644</td>\n",
       "    </tr>\n",
       "    <tr>\n",
       "      <th>97</th>\n",
       "      <td>830</td>\n",
       "      <td>5132</td>\n",
       "      <td>Dominguez 4853</td>\n",
       "    </tr>\n",
       "    <tr>\n",
       "      <th>98</th>\n",
       "      <td>225</td>\n",
       "      <td>7506</td>\n",
       "      <td>Laguna 4021</td>\n",
       "    </tr>\n",
       "    <tr>\n",
       "      <th>99</th>\n",
       "      <td>959</td>\n",
       "      <td>709</td>\n",
       "      <td>Fátima 4752</td>\n",
       "    </tr>\n",
       "  </tbody>\n",
       "</table>\n",
       "<p>100 rows × 3 columns</p>\n",
       "</div>"
      ],
      "text/plain": [
       "    orderId  totalPrice             address\n",
       "0      1083        6267          Gelpi 3162\n",
       "1      1249        2467      Rivadavia 4190\n",
       "2      1341        6747        Medrano 3843\n",
       "3       191       12051     Montevideo 4348\n",
       "4       944       11351          Payro 3518\n",
       "..      ...         ...                 ...\n",
       "95      272         532      Rivadavia 4781\n",
       "96      789       13636  24 de Octubre 3644\n",
       "97      830        5132      Dominguez 4853\n",
       "98      225        7506         Laguna 4021\n",
       "99      959         709         Fátima 4752\n",
       "\n",
       "[100 rows x 3 columns]"
      ]
     },
     "execution_count": 16,
     "metadata": {},
     "output_type": "execute_result"
    }
   ],
   "source": [
    "# Para insertar estos datos, previamente descargar el archivo txt que se encuetra en el siguiente link\n",
    "# https://drive.google.com/file/d/1pJfxW_gUedQlVsO55tVzbQ-FXjk4-jBF/view?usp=sharing'\n",
    "\n",
    "\n",
    "# Leer el archivo con Pandas. Reemplazar la ruta de la variable path con la de tu archivo.\n",
    "path = \"C:/Users/User/Documents/Alkemy/Prisma/full_orders.txt\"\n",
    "df = pd.read_csv(path, sep ='\\t')\n",
    "df"
   ]
  },
  {
   "cell_type": "code",
   "execution_count": 17,
   "id": "87ae030f",
   "metadata": {},
   "outputs": [
    {
     "data": {
      "text/plain": [
       "100"
      ]
     },
     "execution_count": 17,
     "metadata": {},
     "output_type": "execute_result"
    }
   ],
   "source": [
    "# Previamente vamos a cerrar la conexión conn del objeto SQLite, para utilizar el engine de SQLAlchemy\n",
    "conn.close()\n",
    "\n",
    "# Insertar datos en la BD utilzando el método to_sql\n",
    "df.to_sql(name='orders', con=sqla_connection, if_exists='append', index = False)"
   ]
  },
  {
   "cell_type": "code",
   "execution_count": 18,
   "id": "13ddd5ec",
   "metadata": {},
   "outputs": [
    {
     "data": {
      "text/html": [
       "<div>\n",
       "<style scoped>\n",
       "    .dataframe tbody tr th:only-of-type {\n",
       "        vertical-align: middle;\n",
       "    }\n",
       "\n",
       "    .dataframe tbody tr th {\n",
       "        vertical-align: top;\n",
       "    }\n",
       "\n",
       "    .dataframe thead th {\n",
       "        text-align: right;\n",
       "    }\n",
       "</style>\n",
       "<table border=\"1\" class=\"dataframe\">\n",
       "  <thead>\n",
       "    <tr style=\"text-align: right;\">\n",
       "      <th></th>\n",
       "      <th>orderId</th>\n",
       "      <th>totalPrice</th>\n",
       "      <th>address</th>\n",
       "    </tr>\n",
       "  </thead>\n",
       "  <tbody>\n",
       "    <tr>\n",
       "      <th>0</th>\n",
       "      <td>546</td>\n",
       "      <td>6150.80</td>\n",
       "      <td>Buenos Aires 989</td>\n",
       "    </tr>\n",
       "    <tr>\n",
       "      <th>1</th>\n",
       "      <td>547</td>\n",
       "      <td>6897.00</td>\n",
       "      <td>Espronceda 3218</td>\n",
       "    </tr>\n",
       "    <tr>\n",
       "      <th>2</th>\n",
       "      <td>560</td>\n",
       "      <td>7542.35</td>\n",
       "      <td>Pasteur 1788</td>\n",
       "    </tr>\n",
       "    <tr>\n",
       "      <th>3</th>\n",
       "      <td>562</td>\n",
       "      <td>11432.00</td>\n",
       "      <td>Galicia 1252</td>\n",
       "    </tr>\n",
       "    <tr>\n",
       "      <th>4</th>\n",
       "      <td>1083</td>\n",
       "      <td>6267.00</td>\n",
       "      <td>Gelpi 3162</td>\n",
       "    </tr>\n",
       "    <tr>\n",
       "      <th>...</th>\n",
       "      <td>...</td>\n",
       "      <td>...</td>\n",
       "      <td>...</td>\n",
       "    </tr>\n",
       "    <tr>\n",
       "      <th>99</th>\n",
       "      <td>272</td>\n",
       "      <td>532.00</td>\n",
       "      <td>Rivadavia 4781</td>\n",
       "    </tr>\n",
       "    <tr>\n",
       "      <th>100</th>\n",
       "      <td>789</td>\n",
       "      <td>13636.00</td>\n",
       "      <td>24 de Octubre 3644</td>\n",
       "    </tr>\n",
       "    <tr>\n",
       "      <th>101</th>\n",
       "      <td>830</td>\n",
       "      <td>5132.00</td>\n",
       "      <td>Dominguez 4853</td>\n",
       "    </tr>\n",
       "    <tr>\n",
       "      <th>102</th>\n",
       "      <td>225</td>\n",
       "      <td>7506.00</td>\n",
       "      <td>Laguna 4021</td>\n",
       "    </tr>\n",
       "    <tr>\n",
       "      <th>103</th>\n",
       "      <td>959</td>\n",
       "      <td>709.00</td>\n",
       "      <td>Fátima 4752</td>\n",
       "    </tr>\n",
       "  </tbody>\n",
       "</table>\n",
       "<p>104 rows × 3 columns</p>\n",
       "</div>"
      ],
      "text/plain": [
       "     orderId  totalPrice             address\n",
       "0        546     6150.80    Buenos Aires 989\n",
       "1        547     6897.00     Espronceda 3218\n",
       "2        560     7542.35        Pasteur 1788\n",
       "3        562    11432.00        Galicia 1252\n",
       "4       1083     6267.00          Gelpi 3162\n",
       "..       ...         ...                 ...\n",
       "99       272      532.00      Rivadavia 4781\n",
       "100      789    13636.00  24 de Octubre 3644\n",
       "101      830     5132.00      Dominguez 4853\n",
       "102      225     7506.00         Laguna 4021\n",
       "103      959      709.00         Fátima 4752\n",
       "\n",
       "[104 rows x 3 columns]"
      ]
     },
     "execution_count": 18,
     "metadata": {},
     "output_type": "execute_result"
    }
   ],
   "source": [
    "# Comprobación\n",
    "query = \"SELECT * FROM orders\"\n",
    "data = pd.read_sql(query, con=sqla_connection)\n",
    "data"
   ]
  },
  {
   "cell_type": "code",
   "execution_count": null,
   "id": "891f3ad1",
   "metadata": {},
   "outputs": [],
   "source": []
  }
 ],
 "metadata": {
  "kernelspec": {
   "display_name": "Python 3 (ipykernel)",
   "language": "python",
   "name": "python3"
  },
  "language_info": {
   "codemirror_mode": {
    "name": "ipython",
    "version": 3
   },
   "file_extension": ".py",
   "mimetype": "text/x-python",
   "name": "python",
   "nbconvert_exporter": "python",
   "pygments_lexer": "ipython3",
   "version": "3.9.12"
  }
 },
 "nbformat": 4,
 "nbformat_minor": 5
}
