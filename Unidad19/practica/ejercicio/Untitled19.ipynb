{
 "cells": [
  {
   "cell_type": "code",
   "execution_count": 2,
   "id": "4d83a2c4",
   "metadata": {},
   "outputs": [
    {
     "name": "stdout",
     "output_type": "stream",
     "text": [
      "Requirement already satisfied: pandas in c:\\users\\andre\\anaconda3\\lib\\site-packages (1.4.2)\n",
      "Requirement already satisfied: numpy>=1.18.5 in c:\\users\\andre\\anaconda3\\lib\\site-packages (from pandas) (1.21.5)\n",
      "Requirement already satisfied: python-dateutil>=2.8.1 in c:\\users\\andre\\anaconda3\\lib\\site-packages (from pandas) (2.8.2)\n",
      "Requirement already satisfied: pytz>=2020.1 in c:\\users\\andre\\anaconda3\\lib\\site-packages (from pandas) (2021.3)\n",
      "Requirement already satisfied: six>=1.5 in c:\\users\\andre\\anaconda3\\lib\\site-packages (from python-dateutil>=2.8.1->pandas) (1.16.0)\n",
      "Note: you may need to restart the kernel to use updated packages.\n"
     ]
    }
   ],
   "source": [
    "#1- Instalamos la librería 'pandas'\n",
    "\n",
    "\n",
    "pip install pandas"
   ]
  },
  {
   "cell_type": "code",
   "execution_count": 3,
   "id": "1815101a",
   "metadata": {},
   "outputs": [
    {
     "name": "stdout",
     "output_type": "stream",
     "text": [
      "     Sexo  Edad    Ocupación  Ingreso\n",
      "0  Hombre    32       Sastre     2000\n",
      "1   Mujer    30  Comerciante     3000\n",
      "2  Hombre    40       Chofer     5000\n",
      "3   Mujer    25    Dibujante     4000\n"
     ]
    }
   ],
   "source": [
    "#2- Cargamos un dataframe desde un archivo.csv\n",
    "\n",
    "\n",
    "import pandas as pd\n",
    "Personas=pd.read_csv(\"C:/Data-Engineer-Prisma/Unidad19/practica/ejercicio/archivo.csv\",encoding = \"utf-8\")\n",
    "print(Personas)"
   ]
  },
  {
   "cell_type": "code",
   "execution_count": 5,
   "id": "fa69b4d2",
   "metadata": {
    "scrolled": false
   },
   "outputs": [
    {
     "name": "stdout",
     "output_type": "stream",
     "text": [
      "Requirement already satisfied: xlrd in c:\\users\\andre\\anaconda3\\lib\\site-packages (2.0.1)\n",
      "Note: you may need to restart the kernel to use updated packages.\n"
     ]
    }
   ],
   "source": [
    "#3- Instalamos la librería 'xlrd'\n",
    "\n",
    "\n",
    "pip install xlrd"
   ]
  },
  {
   "cell_type": "code",
   "execution_count": 13,
   "id": "f6873169",
   "metadata": {
    "scrolled": true
   },
   "outputs": [
    {
     "name": "stdout",
     "output_type": "stream",
     "text": [
      "            Nombre          Equipo  Número Posición  Edad\n",
      "0    Avery Bradley  Boston Celtics       0       PG    25\n",
      "1     John Holland  Boston Celtics      30       SG    27\n",
      "2    Jonas Jerebko  Boston Celtics       8       PF    29\n",
      "3     Terry Rozier  Boston Celtics      12       PG    21\n",
      "4  Jared Sullinger  Boston Celtics       7        C    22\n"
     ]
    }
   ],
   "source": [
    "#4- Cargamos un dataframe distinto desde un archivo Excel\n",
    "\n",
    "\n",
    "import pandas as pd\n",
    "Jugadores=pd.read_excel(\"C:/Data-Engineer-Prisma/Unidad19/practica/ejercicio/archivo2.xlsx\")\n",
    "print(Jugadores)"
   ]
  },
  {
   "cell_type": "code",
   "execution_count": 18,
   "id": "d9c76a20",
   "metadata": {},
   "outputs": [
    {
     "name": "stdout",
     "output_type": "stream",
     "text": [
      "     Sexo  Edad    Ocupación  Ingreso\n",
      "0  Hombre    32       Sastre     2000\n",
      "1   Mujer    30  Comerciante     3000\n",
      "2  Hombre    40       Chofer     5000\n",
      "3   Mujer    25    Dibujante     4000\n",
      "            Nombre          Equipo  Número Posición  Edad\n",
      "0    Avery Bradley  Boston Celtics       0       PG    25\n",
      "1     John Holland  Boston Celtics      30       SG    27\n",
      "2    Jonas Jerebko  Boston Celtics       8       PF    29\n",
      "3     Terry Rozier  Boston Celtics      12       PG    21\n",
      "4  Jared Sullinger  Boston Celtics       7        C    22\n"
     ]
    }
   ],
   "source": [
    "#5- Mostramos los datos de ambos dataframes\n",
    "\n",
    "\n",
    "print(Personas)\n",
    "print(Jugadores)"
   ]
  },
  {
   "cell_type": "code",
   "execution_count": 23,
   "id": "cd5daec6",
   "metadata": {},
   "outputs": [
    {
     "name": "stdout",
     "output_type": "stream",
     "text": [
      "Requirement already satisfied: matplotlib in c:\\users\\andre\\anaconda3\\lib\\site-packages (3.5.1)\n",
      "Requirement already satisfied: numpy>=1.17 in c:\\users\\andre\\anaconda3\\lib\\site-packages (from matplotlib) (1.21.5)\n",
      "Requirement already satisfied: kiwisolver>=1.0.1 in c:\\users\\andre\\anaconda3\\lib\\site-packages (from matplotlib) (1.3.2)\n",
      "Requirement already satisfied: cycler>=0.10 in c:\\users\\andre\\anaconda3\\lib\\site-packages (from matplotlib) (0.11.0)\n",
      "Requirement already satisfied: fonttools>=4.22.0 in c:\\users\\andre\\anaconda3\\lib\\site-packages (from matplotlib) (4.25.0)\n",
      "Requirement already satisfied: pyparsing>=2.2.1 in c:\\users\\andre\\anaconda3\\lib\\site-packages (from matplotlib) (3.0.4)\n",
      "Requirement already satisfied: packaging>=20.0 in c:\\users\\andre\\anaconda3\\lib\\site-packages (from matplotlib) (21.3)\n",
      "Requirement already satisfied: pillow>=6.2.0 in c:\\users\\andre\\anaconda3\\lib\\site-packages (from matplotlib) (9.0.1)\n",
      "Requirement already satisfied: python-dateutil>=2.7 in c:\\users\\andre\\anaconda3\\lib\\site-packages (from matplotlib) (2.8.2)\n",
      "Requirement already satisfied: six>=1.5 in c:\\users\\andre\\anaconda3\\lib\\site-packages (from python-dateutil>=2.7->matplotlib) (1.16.0)\n",
      "Note: you may need to restart the kernel to use updated packages.\n"
     ]
    }
   ],
   "source": [
    "#6- Instalamos la librería Matplotlib\n",
    "\n",
    "\n",
    "pip install matplotlib"
   ]
  },
  {
   "cell_type": "code",
   "execution_count": 5,
   "id": "2125b90f",
   "metadata": {},
   "outputs": [
    {
     "data": {
      "image/png": "[encoded data removed]",
      "text/plain": [
       "<Figure size 432x288 with 1 Axes>"
      ]
     },
     "metadata": {
      "needs_background": "light"
     },
     "output_type": "display_data"
    }
   ],
   "source": [
    "#8- Realizamos un gráfico de barras de 'Jugadores'.\n",
    "\n",
    "\n",
    "import pandas as pd\n",
    "import matplotlib.pyplot as plt\n",
    "\n",
    "data = {'Jugadores': ['Avery Bradley','John Holland','Jonas Jerebko','Terry Rozier','Jared Sullinger'],\n",
    "'Edad': [25,27,29,21,22]\n",
    "}\n",
    "\n",
    "df = pd.DataFrame(data,columns=['Jugadores','Edad'])\n",
    "df.plot(x ='Jugadores', y='Edad', kind = 'bar')\n",
    "plt.show()"
   ]
  },
  {
   "cell_type": "code",
   "execution_count": 8,
   "id": "6e9a3c73",
   "metadata": {},
   "outputs": [
    {
     "name": "stdout",
     "output_type": "stream",
     "text": [
      "            Nombre          Equipo  Número Posición  Edad\n",
      "0    Avery Bradley  Boston Celtics       0       PG    25\n",
      "1     John Holland  Boston Celtics      30       SG    27\n",
      "2    Jonas Jerebko  Boston Celtics       8       PF    29\n",
      "3     Terry Rozier  Boston Celtics      12       PG    21\n",
      "4  Jared Sullinger  Boston Celtics       7        C    22\n"
     ]
    }
   ],
   "source": [
    "import pandas as pd\n",
    "Jugadores=pd.read_excel(\"C:/Data-Engineer-Prisma/Unidad19/practica/ejercicio/archivo2.xlsx\")\n",
    "print(Jugadores)"
   ]
  },
  {
   "cell_type": "code",
   "execution_count": 9,
   "id": "fd556704",
   "metadata": {},
   "outputs": [
    {
     "data": {
      "text/html": [
       "<div>\n",
       "<style scoped>\n",
       "    .dataframe tbody tr th:only-of-type {\n",
       "        vertical-align: middle;\n",
       "    }\n",
       "\n",
       "    .dataframe tbody tr th {\n",
       "        vertical-align: top;\n",
       "    }\n",
       "\n",
       "    .dataframe thead th {\n",
       "        text-align: right;\n",
       "    }\n",
       "</style>\n",
       "<table border=\"1\" class=\"dataframe\">\n",
       "  <thead>\n",
       "    <tr style=\"text-align: right;\">\n",
       "      <th></th>\n",
       "      <th>Nombre</th>\n",
       "      <th>Equipo</th>\n",
       "      <th>Número</th>\n",
       "      <th>Posición</th>\n",
       "      <th>Edad</th>\n",
       "    </tr>\n",
       "  </thead>\n",
       "  <tbody>\n",
       "    <tr>\n",
       "      <th>0</th>\n",
       "      <td>Avery Bradley</td>\n",
       "      <td>Boston Celtics</td>\n",
       "      <td>0</td>\n",
       "      <td>PG</td>\n",
       "      <td>25</td>\n",
       "    </tr>\n",
       "    <tr>\n",
       "      <th>1</th>\n",
       "      <td>John Holland</td>\n",
       "      <td>Boston Celtics</td>\n",
       "      <td>30</td>\n",
       "      <td>SG</td>\n",
       "      <td>27</td>\n",
       "    </tr>\n",
       "    <tr>\n",
       "      <th>2</th>\n",
       "      <td>Jonas Jerebko</td>\n",
       "      <td>Boston Celtics</td>\n",
       "      <td>8</td>\n",
       "      <td>PF</td>\n",
       "      <td>29</td>\n",
       "    </tr>\n",
       "    <tr>\n",
       "      <th>3</th>\n",
       "      <td>Terry Rozier</td>\n",
       "      <td>Boston Celtics</td>\n",
       "      <td>12</td>\n",
       "      <td>PG</td>\n",
       "      <td>21</td>\n",
       "    </tr>\n",
       "    <tr>\n",
       "      <th>4</th>\n",
       "      <td>Jared Sullinger</td>\n",
       "      <td>Boston Celtics</td>\n",
       "      <td>7</td>\n",
       "      <td>C</td>\n",
       "      <td>22</td>\n",
       "    </tr>\n",
       "  </tbody>\n",
       "</table>\n",
       "</div>"
      ],
      "text/plain": [
       "            Nombre          Equipo  Número Posición  Edad\n",
       "0    Avery Bradley  Boston Celtics       0       PG    25\n",
       "1     John Holland  Boston Celtics      30       SG    27\n",
       "2    Jonas Jerebko  Boston Celtics       8       PF    29\n",
       "3     Terry Rozier  Boston Celtics      12       PG    21\n",
       "4  Jared Sullinger  Boston Celtics       7        C    22"
      ]
     },
     "execution_count": 9,
     "metadata": {},
     "output_type": "execute_result"
    }
   ],
   "source": [
    "Jugadores"
   ]
  },
  {
   "cell_type": "code",
   "execution_count": 10,
   "id": "f2df032e",
   "metadata": {},
   "outputs": [
    {
     "name": "stdout",
     "output_type": "stream",
     "text": [
      "     Sexo  Edad    Ocupación  Ingreso\n",
      "0  Hombre    32       Sastre     2000\n",
      "1   Mujer    30  Comerciante     3000\n",
      "2  Hombre    40       Chofer     5000\n",
      "3   Mujer    25    Dibujante     4000\n"
     ]
    }
   ],
   "source": [
    "import pandas as pd\n",
    "Personas=pd.read_csv(\"C:/Data-Engineer-Prisma/Unidad19/practica/ejercicio/archivo.csv\",encoding = \"utf-8\")\n",
    "print(Personas)"
   ]
  },
  {
   "cell_type": "code",
   "execution_count": 11,
   "id": "6f4b9f59",
   "metadata": {},
   "outputs": [
    {
     "data": {
      "text/html": [
       "<div>\n",
       "<style scoped>\n",
       "    .dataframe tbody tr th:only-of-type {\n",
       "        vertical-align: middle;\n",
       "    }\n",
       "\n",
       "    .dataframe tbody tr th {\n",
       "        vertical-align: top;\n",
       "    }\n",
       "\n",
       "    .dataframe thead th {\n",
       "        text-align: right;\n",
       "    }\n",
       "</style>\n",
       "<table border=\"1\" class=\"dataframe\">\n",
       "  <thead>\n",
       "    <tr style=\"text-align: right;\">\n",
       "      <th></th>\n",
       "      <th>Sexo</th>\n",
       "      <th>Edad</th>\n",
       "      <th>Ocupación</th>\n",
       "      <th>Ingreso</th>\n",
       "    </tr>\n",
       "  </thead>\n",
       "  <tbody>\n",
       "    <tr>\n",
       "      <th>0</th>\n",
       "      <td>Hombre</td>\n",
       "      <td>32</td>\n",
       "      <td>Sastre</td>\n",
       "      <td>2000</td>\n",
       "    </tr>\n",
       "    <tr>\n",
       "      <th>1</th>\n",
       "      <td>Mujer</td>\n",
       "      <td>30</td>\n",
       "      <td>Comerciante</td>\n",
       "      <td>3000</td>\n",
       "    </tr>\n",
       "    <tr>\n",
       "      <th>2</th>\n",
       "      <td>Hombre</td>\n",
       "      <td>40</td>\n",
       "      <td>Chofer</td>\n",
       "      <td>5000</td>\n",
       "    </tr>\n",
       "    <tr>\n",
       "      <th>3</th>\n",
       "      <td>Mujer</td>\n",
       "      <td>25</td>\n",
       "      <td>Dibujante</td>\n",
       "      <td>4000</td>\n",
       "    </tr>\n",
       "  </tbody>\n",
       "</table>\n",
       "</div>"
      ],
      "text/plain": [
       "     Sexo  Edad    Ocupación  Ingreso\n",
       "0  Hombre    32       Sastre     2000\n",
       "1   Mujer    30  Comerciante     3000\n",
       "2  Hombre    40       Chofer     5000\n",
       "3   Mujer    25    Dibujante     4000"
      ]
     },
     "execution_count": 11,
     "metadata": {},
     "output_type": "execute_result"
    }
   ],
   "source": [
    "Personas"
   ]
  },
  {
   "cell_type": "code",
   "execution_count": 17,
   "id": "318bf796",
   "metadata": {},
   "outputs": [
    {
     "data": {
      "text/plain": [
       "{'Sexo': ['Hombre', 'Mujer', 'Hombre', 'Mujer'],\n",
       " 'Edad': ['32', '30', '40', '25'],\n",
       " 'Ocupación': ['Sastre', 'Comerciante', 'Chofer', 'Dibujante'],\n",
       " 'Ingreso': [2000, 3000, 5000, 4000]}"
      ]
     },
     "execution_count": 17,
     "metadata": {},
     "output_type": "execute_result"
    }
   ],
   "source": [
    "#7- Realizamos GroupBy sobre un campo y utilizando sum()\n",
    "# Realizar un Melt\n",
    "\n",
    "import pandas as pd\n",
    "# Crear dataframe desde un diccionario\n",
    "Personas = {'Sexo':['Hombre','Mujer','Hombre','Mujer'],\n",
    "       'Edad':['32','30','40','25'],\n",
    "       'Ocupación':['Sastre','Comerciante','Chofer','Dibujante'],\n",
    "       'Ingreso':[2000,3000,5000,4000]}\n",
    "Personas"
   ]
  },
  {
   "cell_type": "code",
   "execution_count": 18,
   "id": "351b8197",
   "metadata": {},
   "outputs": [
    {
     "data": {
      "text/html": [
       "<div>\n",
       "<style scoped>\n",
       "    .dataframe tbody tr th:only-of-type {\n",
       "        vertical-align: middle;\n",
       "    }\n",
       "\n",
       "    .dataframe tbody tr th {\n",
       "        vertical-align: top;\n",
       "    }\n",
       "\n",
       "    .dataframe thead th {\n",
       "        text-align: right;\n",
       "    }\n",
       "</style>\n",
       "<table border=\"1\" class=\"dataframe\">\n",
       "  <thead>\n",
       "    <tr style=\"text-align: right;\">\n",
       "      <th></th>\n",
       "      <th>Sexo</th>\n",
       "      <th>Edad</th>\n",
       "      <th>Ocupación</th>\n",
       "      <th>Ingreso</th>\n",
       "    </tr>\n",
       "  </thead>\n",
       "  <tbody>\n",
       "    <tr>\n",
       "      <th>0</th>\n",
       "      <td>Hombre</td>\n",
       "      <td>32</td>\n",
       "      <td>Sastre</td>\n",
       "      <td>2000</td>\n",
       "    </tr>\n",
       "    <tr>\n",
       "      <th>1</th>\n",
       "      <td>Mujer</td>\n",
       "      <td>30</td>\n",
       "      <td>Comerciante</td>\n",
       "      <td>3000</td>\n",
       "    </tr>\n",
       "    <tr>\n",
       "      <th>2</th>\n",
       "      <td>Hombre</td>\n",
       "      <td>40</td>\n",
       "      <td>Chofer</td>\n",
       "      <td>5000</td>\n",
       "    </tr>\n",
       "    <tr>\n",
       "      <th>3</th>\n",
       "      <td>Mujer</td>\n",
       "      <td>25</td>\n",
       "      <td>Dibujante</td>\n",
       "      <td>4000</td>\n",
       "    </tr>\n",
       "  </tbody>\n",
       "</table>\n",
       "</div>"
      ],
      "text/plain": [
       "     Sexo Edad    Ocupación  Ingreso\n",
       "0  Hombre   32       Sastre     2000\n",
       "1   Mujer   30  Comerciante     3000\n",
       "2  Hombre   40       Chofer     5000\n",
       "3   Mujer   25    Dibujante     4000"
      ]
     },
     "execution_count": 18,
     "metadata": {},
     "output_type": "execute_result"
    }
   ],
   "source": [
    "dfPersonas = pd.DataFrame(Personas)\n",
    "dfPersonas"
   ]
  },
  {
   "cell_type": "code",
   "execution_count": 26,
   "id": "c58d67fc",
   "metadata": {},
   "outputs": [
    {
     "data": {
      "text/plain": [
       "<pandas.core.groupby.generic.DataFrameGroupBy object at 0x0000019C8FA40910>"
      ]
     },
     "execution_count": 26,
     "metadata": {},
     "output_type": "execute_result"
    }
   ],
   "source": [
    "#agrupar por Sexo\n",
    "dfPersonas.groupby('Sexo')"
   ]
  },
  {
   "cell_type": "code",
   "execution_count": 30,
   "id": "65fe904e",
   "metadata": {},
   "outputs": [],
   "source": [
    "agrupar_por_sexo = dfPersonas.groupby(\"Sexo\")\n"
   ]
  },
  {
   "cell_type": "code",
   "execution_count": 31,
   "id": "5fddb6c6",
   "metadata": {},
   "outputs": [
    {
     "data": {
      "text/html": [
       "<div>\n",
       "<style scoped>\n",
       "    .dataframe tbody tr th:only-of-type {\n",
       "        vertical-align: middle;\n",
       "    }\n",
       "\n",
       "    .dataframe tbody tr th {\n",
       "        vertical-align: top;\n",
       "    }\n",
       "\n",
       "    .dataframe thead th {\n",
       "        text-align: right;\n",
       "    }\n",
       "</style>\n",
       "<table border=\"1\" class=\"dataframe\">\n",
       "  <thead>\n",
       "    <tr style=\"text-align: right;\">\n",
       "      <th></th>\n",
       "      <th>Ingreso</th>\n",
       "    </tr>\n",
       "    <tr>\n",
       "      <th>Sexo</th>\n",
       "      <th></th>\n",
       "    </tr>\n",
       "  </thead>\n",
       "  <tbody>\n",
       "    <tr>\n",
       "      <th>Hombre</th>\n",
       "      <td>7000</td>\n",
       "    </tr>\n",
       "    <tr>\n",
       "      <th>Mujer</th>\n",
       "      <td>7000</td>\n",
       "    </tr>\n",
       "  </tbody>\n",
       "</table>\n",
       "</div>"
      ],
      "text/plain": [
       "        Ingreso\n",
       "Sexo           \n",
       "Hombre     7000\n",
       "Mujer      7000"
      ]
     },
     "execution_count": 31,
     "metadata": {},
     "output_type": "execute_result"
    }
   ],
   "source": [
    "# Suma de ingresos por sexo\n",
    "agrupar_por_sexo.sum()\n"
   ]
  },
  {
   "cell_type": "code",
   "execution_count": null,
   "id": "888dc063",
   "metadata": {},
   "outputs": [],
   "source": []
  },
  {
   "cell_type": "code",
   "execution_count": null,
   "id": "8c098d7e",
   "metadata": {},
   "outputs": [],
   "source": []
  },
  {
   "cell_type": "code",
   "execution_count": null,
   "id": "08034e6f",
   "metadata": {},
   "outputs": [],
   "source": []
  }
 ],
 "metadata": {
  "kernelspec": {
   "display_name": "Python 3 (ipykernel)",
   "language": "python",
   "name": "python3"
  },
  "language_info": {
   "codemirror_mode": {
    "name": "ipython",
    "version": 3
   },
   "file_extension": ".py",
   "mimetype": "text/x-python",
   "name": "python",
   "nbconvert_exporter": "python",
   "pygments_lexer": "ipython3",
   "version": "3.9.12"
  }
 },
 "nbformat": 4,
 "nbformat_minor": 5
}
